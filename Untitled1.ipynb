{
 "cells": [
  {
   "cell_type": "code",
   "execution_count": 24,
   "metadata": {},
   "outputs": [],
   "source": [
    "from pymatgen import MPRester\n",
    "from pymatgen.analysis.phase_diagram import PhaseDiagram, PDPlotter\n",
    "\n",
    "#This initializes the REST adaptor. Put your own API key in.\n",
    "a = MPRester(\"1StTDrx8a7aVGPdV35br\")\n",
    " \n",
    "#Entries are the basic unit for thermodynamic and other analyses in pymatgen.\n",
    "#This gets all entries belonging to the Ca-C-O system.\n",
    "entries = a.get_entries_in_chemsys(['Cu', 'O'])\n",
    "\n",
    "\n",
    "with MPRester(\"1StTDrx8a7aVGPdV35br\") as m:\n",
    "\n",
    "    # Get all energies of materials with formula \"*2O\".\n",
    "    res = m.query(\"*2O\", ['pretty_formula','is_hubbard'])\n",
    "\n",
    "# #With entries, you can do many sophisticated analyses, \n",
    "# #like creating phase diagrams.\n",
    "# pd = PhaseDiagram(entries)\n",
    "# plotter = PDPlotter(pd)\n",
    "# plotter.show() "
   ]
  },
  {
   "cell_type": "code",
   "execution_count": 25,
   "metadata": {},
   "outputs": [
    {
     "name": "stdout",
     "output_type": "stream",
     "text": [
      "[{'pretty_formula': 'Ag2O', 'is_hubbard': False}, {'pretty_formula': 'Ag2O', 'is_hubbard': False}, {'pretty_formula': 'Ag2O', 'is_hubbard': False}, {'pretty_formula': 'Ag2O', 'is_hubbard': False}, {'pretty_formula': 'Al2O', 'is_hubbard': False}, {'pretty_formula': 'Al2O', 'is_hubbard': False}, {'pretty_formula': 'Al2O', 'is_hubbard': False}, {'pretty_formula': 'B2O', 'is_hubbard': False}, {'pretty_formula': 'Br2O', 'is_hubbard': False}, {'pretty_formula': 'Cl2O', 'is_hubbard': False}, {'pretty_formula': 'Cr2O', 'is_hubbard': True}, {'pretty_formula': 'Cs2O', 'is_hubbard': False}, {'pretty_formula': 'Cs2O', 'is_hubbard': False}, {'pretty_formula': 'Cs2O', 'is_hubbard': False}, {'pretty_formula': 'Cu2O', 'is_hubbard': False}, {'pretty_formula': 'H2O', 'is_hubbard': False}, {'pretty_formula': 'H2O', 'is_hubbard': False}, {'pretty_formula': 'H2O', 'is_hubbard': False}, {'pretty_formula': 'H2O', 'is_hubbard': False}, {'pretty_formula': 'H2O', 'is_hubbard': False}, {'pretty_formula': 'H2O', 'is_hubbard': False}, {'pretty_formula': 'H2O', 'is_hubbard': False}, {'pretty_formula': 'H2O', 'is_hubbard': False}, {'pretty_formula': 'H2O', 'is_hubbard': False}, {'pretty_formula': 'H2O', 'is_hubbard': False}, {'pretty_formula': 'H2O', 'is_hubbard': False}, {'pretty_formula': 'H2O', 'is_hubbard': False}, {'pretty_formula': 'H2O', 'is_hubbard': False}, {'pretty_formula': 'H2O', 'is_hubbard': False}, {'pretty_formula': 'H2O', 'is_hubbard': False}, {'pretty_formula': 'K2O', 'is_hubbard': False}, {'pretty_formula': 'K2O', 'is_hubbard': False}, {'pretty_formula': 'K2O', 'is_hubbard': False}, {'pretty_formula': 'K2O', 'is_hubbard': False}, {'pretty_formula': 'K2O', 'is_hubbard': False}, {'pretty_formula': 'K2O', 'is_hubbard': False}, {'pretty_formula': 'K2O', 'is_hubbard': False}, {'pretty_formula': 'K2O', 'is_hubbard': False}, {'pretty_formula': 'K2O', 'is_hubbard': False}, {'pretty_formula': 'K2O', 'is_hubbard': False}, {'pretty_formula': 'Li2O', 'is_hubbard': False}, {'pretty_formula': 'Li2O', 'is_hubbard': False}, {'pretty_formula': 'Li2O', 'is_hubbard': False}, {'pretty_formula': 'Li2O', 'is_hubbard': False}, {'pretty_formula': 'Li2O', 'is_hubbard': False}, {'pretty_formula': 'Li2O', 'is_hubbard': False}, {'pretty_formula': 'Mo2O', 'is_hubbard': True}, {'pretty_formula': 'N2O', 'is_hubbard': False}, {'pretty_formula': 'N2O', 'is_hubbard': False}, {'pretty_formula': 'N2O', 'is_hubbard': False}, {'pretty_formula': 'N2O', 'is_hubbard': False}, {'pretty_formula': 'Na2O', 'is_hubbard': False}, {'pretty_formula': 'Na2O', 'is_hubbard': False}, {'pretty_formula': 'Na2O', 'is_hubbard': False}, {'pretty_formula': 'Na2O', 'is_hubbard': False}, {'pretty_formula': 'Na2O', 'is_hubbard': False}, {'pretty_formula': 'Na2O', 'is_hubbard': False}, {'pretty_formula': 'Na2O', 'is_hubbard': False}, {'pretty_formula': 'OF2', 'is_hubbard': False}, {'pretty_formula': 'Pb2O', 'is_hubbard': False}, {'pretty_formula': 'Pd2O', 'is_hubbard': False}, {'pretty_formula': 'Pt2O', 'is_hubbard': False}, {'pretty_formula': 'Rb2O', 'is_hubbard': False}, {'pretty_formula': 'Rb2O', 'is_hubbard': False}, {'pretty_formula': 'Rb2O', 'is_hubbard': False}, {'pretty_formula': 'Rb2O', 'is_hubbard': False}, {'pretty_formula': 'Rb2O', 'is_hubbard': False}, {'pretty_formula': 'Rb2O', 'is_hubbard': False}, {'pretty_formula': 'Rb2O', 'is_hubbard': False}, {'pretty_formula': 'Si2O', 'is_hubbard': False}, {'pretty_formula': 'Si2O', 'is_hubbard': False}, {'pretty_formula': 'Sm2O', 'is_hubbard': False}, {'pretty_formula': 'Sm2O', 'is_hubbard': False}, {'pretty_formula': 'Ta2O', 'is_hubbard': False}, {'pretty_formula': 'Ti2O', 'is_hubbard': False}, {'pretty_formula': 'Ti2O', 'is_hubbard': False}, {'pretty_formula': 'Ti2O', 'is_hubbard': False}, {'pretty_formula': 'Ti2O', 'is_hubbard': False}, {'pretty_formula': 'Ti2O', 'is_hubbard': False}, {'pretty_formula': 'Ti2O', 'is_hubbard': False}, {'pretty_formula': 'Ti2O', 'is_hubbard': False}, {'pretty_formula': 'Tl2O', 'is_hubbard': False}, {'pretty_formula': 'Tl2O', 'is_hubbard': False}, {'pretty_formula': 'Zr2O', 'is_hubbard': False}, {'pretty_formula': 'Zr2O', 'is_hubbard': False}]\n"
     ]
    }
   ],
   "source": [
    "print(res)"
   ]
  },
  {
   "cell_type": "code",
   "execution_count": null,
   "metadata": {},
   "outputs": [],
   "source": []
  }
 ],
 "metadata": {
  "kernelspec": {
   "display_name": "Python 3",
   "language": "python",
   "name": "python3"
  },
  "language_info": {
   "codemirror_mode": {
    "name": "ipython",
    "version": 3
   },
   "file_extension": ".py",
   "mimetype": "text/x-python",
   "name": "python",
   "nbconvert_exporter": "python",
   "pygments_lexer": "ipython3",
   "version": "3.7.6"
  }
 },
 "nbformat": 4,
 "nbformat_minor": 4
}
